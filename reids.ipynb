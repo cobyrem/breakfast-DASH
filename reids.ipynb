{
 "cells": [
  {
   "cell_type": "markdown",
   "id": "f8b88213-c1db-41dc-af5b-749c9837807b",
   "metadata": {},
   "source": [
    "# Breakfast-DASH notebook for interactive visualization and experimentation"
   ]
  },
  {
   "cell_type": "markdown",
   "id": "46e7ae8f-fa48-45bd-9e66-a9cdd343ea1d",
   "metadata": {},
   "source": [
    "I am going to copy sample code from dash documentation to create a [minimal dash app](https://dash.plotly.com/minimal-app) and then look at the code and visualization to get a jump start on learning dash. At this point I have read through some of the documentation and watched a few videos on dash and feel confident that I can get something to work fairly quickly."
   ]
  },
  {
   "cell_type": "code",
   "execution_count": 1,
   "id": "42b3959f-9d69-4a76-8f7b-ce318bacefb1",
   "metadata": {
    "tags": []
   },
   "outputs": [
    {
     "data": {
      "text/html": [
       "\n",
       "        <iframe\n",
       "            width=\"100%\"\n",
       "            height=\"650\"\n",
       "            src=\"http://127.0.0.1:8050/\"\n",
       "            frameborder=\"0\"\n",
       "            allowfullscreen\n",
       "            \n",
       "        ></iframe>\n",
       "        "
      ],
      "text/plain": [
       "<IPython.lib.display.IFrame at 0x7fb39187cd30>"
      ]
     },
     "metadata": {},
     "output_type": "display_data"
    }
   ],
   "source": [
    "from dash import Dash, html, dcc, callback, Output, Input\n",
    "import plotly.express as px\n",
    "import pandas as pd\n",
    "\n",
    "df = pd.read_csv('https://raw.githubusercontent.com/plotly/datasets/master/gapminder_unfiltered.csv')\n",
    "\n",
    "app = Dash(__name__)\n",
    "\n",
    "app.layout = html.Div([\n",
    "    html.H1(children='Title of Dash App', style={'textAlign':'center'}),\n",
    "    dcc.Dropdown(df.country.unique(), 'Canada', id='dropdown-selection'),\n",
    "    dcc.Graph(id='graph-content')\n",
    "])\n",
    "\n",
    "@callback(\n",
    "    Output('graph-content', 'figure'),\n",
    "    Input('dropdown-selection', 'value')\n",
    ")\n",
    "def update_graph(value):\n",
    "    dff = df[df.country==value]\n",
    "    return px.line(dff, x='year', y='pop')\n",
    "\n",
    "if __name__ == '__main__':\n",
    "    app.run(debug= True)\n"
   ]
  },
  {
   "cell_type": "markdown",
   "id": "a966cc90-21ee-4b9d-9fcf-caeef66ba5ae",
   "metadata": {},
   "source": [
    "Alright that wasn't too difficult. My main setup was creating the virtual environment. This can be done with the following commands. These instructions are specific to my machine (see Github README for machine/OS/python versions); results may vary"
   ]
  },
  {
   "cell_type": "markdown",
   "id": "cd7e4816-2db5-4801-b4a3-513baa3f0853",
   "metadata": {},
   "source": [
    "1. python3.10 -m pip install --user virtualenv\n",
    "2. python3.10 -m venv BreakfastDashEnv \n",
    "3. source venv/bin/activate\n",
    "4. Install libraries using [instructions from the dash documentation](https://dash.plotly.com/installation)"
   ]
  },
  {
   "cell_type": "markdown",
   "id": "854df7d1-2679-4521-a707-bd43d3aa5d4a",
   "metadata": {},
   "source": [
    "<div style=\"background: lemonchiffon; margin:20px; padding: 20px;\">\n",
    "    <strong>TODO</strong>\n",
    "    <p>Add venv instructions to the README</p>\n",
    "</div>"
   ]
  },
  {
   "cell_type": "markdown",
   "id": "627344c6-8826-4c97-a40c-fe37a719f431",
   "metadata": {},
   "source": [
    "First I will go over what I first noticed and then try to understand the code in more depth.\n",
    "\n",
    "1. Graph looks pretty nice at first glance. \n",
    "2. In dark mode, the chart title was very difficult to read as the title was black text on a dark gray background. This is more of an advanced issue, but changing the CSS could either be dynamic or strictly enforce a dark or light mode. I will use a light mode because their might be less issues with visibility.\n",
    "2. I would adjust the y-axis scale to start at the minimum value (or better round down to the nearest million so 14M). At a quick glance the user might think the minimum value is 15M when it is not. Not too bad in this example, but I have this issue look worse. Overall decent scaling\n",
    "3. Data points are interactive. Good that they are hidden as to not distract the suer from the main trend of populations of countries over time.\n",
    "4. I like that you can zoom in if needed and also that you can select an input to change the line chart.\n",
    "5. I can see how higher up personnel may want very customized dashboards. This could lead to more time used on a minority of features.\n",
    "6. The graph semi-scales well at different browser sizes. Wonder how this could work on different form factors/devices."
   ]
  },
  {
   "cell_type": "markdown",
   "id": "83bdbf6d-900a-4c9f-903c-70575ae7c290",
   "metadata": {},
   "source": [
    "Now I can go through the code to understand dash better. This will be broken down by line number ranges:"
   ]
  },
  {
   "cell_type": "markdown",
   "id": "12a360a5-69c4-4024-8833-4ad63a4fef6f",
   "metadata": {},
   "source": [
    "1-3: Standard importants for dash/plotly as well as pandas which I am familiar with. Pandas is properly used to convert any data sources to dataframes and do processing on the data easily.\n",
    "\n",
    "5: Read the data from csv file and convert into a pandas df. The data has the following headers and samples values. EDA will not be done on this data, but would normally be done."
   ]
  },
  {
   "cell_type": "code",
   "execution_count": 2,
   "id": "f7d02fcd-bdc6-4a3f-b11a-122fd206e6ee",
   "metadata": {
    "tags": []
   },
   "outputs": [
    {
     "data": {
      "text/html": [
       "<div>\n",
       "<style scoped>\n",
       "    .dataframe tbody tr th:only-of-type {\n",
       "        vertical-align: middle;\n",
       "    }\n",
       "\n",
       "    .dataframe tbody tr th {\n",
       "        vertical-align: top;\n",
       "    }\n",
       "\n",
       "    .dataframe thead th {\n",
       "        text-align: right;\n",
       "    }\n",
       "</style>\n",
       "<table border=\"1\" class=\"dataframe\">\n",
       "  <thead>\n",
       "    <tr style=\"text-align: right;\">\n",
       "      <th></th>\n",
       "      <th>country</th>\n",
       "      <th>continent</th>\n",
       "      <th>year</th>\n",
       "      <th>lifeExp</th>\n",
       "      <th>pop</th>\n",
       "      <th>gdpPercap</th>\n",
       "    </tr>\n",
       "  </thead>\n",
       "  <tbody>\n",
       "    <tr>\n",
       "      <th>0</th>\n",
       "      <td>Afghanistan</td>\n",
       "      <td>Asia</td>\n",
       "      <td>1952</td>\n",
       "      <td>28.801</td>\n",
       "      <td>8425333</td>\n",
       "      <td>779.445314</td>\n",
       "    </tr>\n",
       "    <tr>\n",
       "      <th>1</th>\n",
       "      <td>Afghanistan</td>\n",
       "      <td>Asia</td>\n",
       "      <td>1957</td>\n",
       "      <td>30.332</td>\n",
       "      <td>9240934</td>\n",
       "      <td>820.853030</td>\n",
       "    </tr>\n",
       "    <tr>\n",
       "      <th>2</th>\n",
       "      <td>Afghanistan</td>\n",
       "      <td>Asia</td>\n",
       "      <td>1962</td>\n",
       "      <td>31.997</td>\n",
       "      <td>10267083</td>\n",
       "      <td>853.100710</td>\n",
       "    </tr>\n",
       "    <tr>\n",
       "      <th>3</th>\n",
       "      <td>Afghanistan</td>\n",
       "      <td>Asia</td>\n",
       "      <td>1967</td>\n",
       "      <td>34.020</td>\n",
       "      <td>11537966</td>\n",
       "      <td>836.197138</td>\n",
       "    </tr>\n",
       "    <tr>\n",
       "      <th>4</th>\n",
       "      <td>Afghanistan</td>\n",
       "      <td>Asia</td>\n",
       "      <td>1972</td>\n",
       "      <td>36.088</td>\n",
       "      <td>13079460</td>\n",
       "      <td>739.981106</td>\n",
       "    </tr>\n",
       "  </tbody>\n",
       "</table>\n",
       "</div>"
      ],
      "text/plain": [
       "       country continent  year  lifeExp       pop   gdpPercap\n",
       "0  Afghanistan      Asia  1952   28.801   8425333  779.445314\n",
       "1  Afghanistan      Asia  1957   30.332   9240934  820.853030\n",
       "2  Afghanistan      Asia  1962   31.997  10267083  853.100710\n",
       "3  Afghanistan      Asia  1967   34.020  11537966  836.197138\n",
       "4  Afghanistan      Asia  1972   36.088  13079460  739.981106"
      ]
     },
     "execution_count": 2,
     "metadata": {},
     "output_type": "execute_result"
    }
   ],
   "source": [
    "df.head()"
   ]
  },
  {
   "cell_type": "markdown",
   "id": "8ff506d9-0d7f-4b4a-ad35-bf6c7d90c1be",
   "metadata": {},
   "source": [
    "7: Seems like standard boilerplate code to make sure dash look for files/resources in the correct locations. It creates a dash instance to start the dash app.\n",
    "\n",
    "9-13: High level HTML abstraction. I have a small amount of web dev experience and am looking forward to learning more in a web development class I am taking next semester for my Master'd degree in Computer Science. This feels like pythonic HTML, which sounds weird but is intuitive enough. It seems like a header is made with the cetnered title of the dashboard. Then the dropdown is added with all of the unique countries in the df. The default selection is Canada. An id is assigned; this might be if more elements are created, then the elements can be modified by their id. Then the graph element is added to the higher level div, but nothing is done with it yet. I wonder how other styles or if more elements are added, how will the dashboard look. Is CSS needed Will the elements append to the end of the dashboard or will the dashboard flex the html elements.\n",
    "\n",
    "15-18: This seems like some way in dash/python to add interactiveness to the dashboard. This will be abstracted for now, but I am curious how this effects the code. Will not look into now. I will just assume this works automagically. It somehow changes the figure and value variables.\n",
    "\n",
    "19-21: The value is the drop down selection and is accessed in the df. The years and population for all the rows with the specific country selected are plotted using some plotly library.\n",
    "\n",
    "23-24: Run the app in debug mode. It seem like debug mode might just add the <> interactive button with basics network and server stats. "
   ]
  },
  {
   "cell_type": "markdown",
   "id": "fcbd7a94-a320-4739-935e-1a26d8d61b76",
   "metadata": {},
   "source": [
    "Overall I like the dash framework. It feels like a more interactive matplotlib with html/css/JS touches for charts and viz that are ready to be put on a website. With my pandas experience, it feels natural to quickly get started. I will try to finish my other issues/tickets in a python file (not notebook). But first I want to modify the code to understand it better.\n",
    "\n",
    "I am going to change the Title of the dashbaord, align the title left and change the color to purple. Change the default country to United States, make 2 dropdowns and charts side by side, and run where debug is false."
   ]
  },
  {
   "cell_type": "code",
   "execution_count": 3,
   "id": "390e4b5d-2b9d-4c3d-8253-1052bbd4850e",
   "metadata": {
    "tags": []
   },
   "outputs": [
    {
     "data": {
      "text/html": [
       "\n",
       "        <iframe\n",
       "            width=\"100%\"\n",
       "            height=\"650\"\n",
       "            src=\"http://127.0.0.1:8050/\"\n",
       "            frameborder=\"0\"\n",
       "            allowfullscreen\n",
       "            \n",
       "        ></iframe>\n",
       "        "
      ],
      "text/plain": [
       "<IPython.lib.display.IFrame at 0x7fb39194fd00>"
      ]
     },
     "metadata": {},
     "output_type": "display_data"
    }
   ],
   "source": [
    "df = pd.read_csv('https://raw.githubusercontent.com/plotly/datasets/master/gapminder_unfiltered.csv')\n",
    "\n",
    "app = Dash(__name__)\n",
    "\n",
    "app.layout = html.Div([\n",
    "    html.H1(children='Country Populations over Time', style={'textAlign': 'left', 'color': 'purple'}),\n",
    "    html.Div([\n",
    "        dcc.Dropdown(options=[{'label': country, 'value': country} for country in df.country.unique()], value='United States', id='dropdown-selection1'),\n",
    "        dcc.Graph(id='graph-content1')], style={'display': 'inline-block', 'width': '50%'}),\n",
    "    html.Div([\n",
    "        dcc.Dropdown(options=[{'label': country, 'value': country} for country in df.country.unique()], value='United States', id='dropdown-selection2'),\n",
    "        dcc.Graph(id='graph-content2')], style={'display': 'inline-block', 'width': '50%'})\n",
    "])\n",
    "\n",
    "@app.callback(\n",
    "    Output('graph-content1', 'figure'),\n",
    "    Output('graph-content2', 'figure'),\n",
    "    Input('dropdown-selection1', 'value'),\n",
    "    Input('dropdown-selection2', 'value')\n",
    ")\n",
    "def update_graph(value1, value2):\n",
    "    dff1 = df[df.country == value1]\n",
    "    dff2 = df[df.country == value2]\n",
    "    fig1 = px.line(dff1, x='year', y='pop')\n",
    "    fig2 = px.line(dff2, x='year', y='pop')\n",
    "    return fig1, fig2\n",
    "\n",
    "if __name__ == '__main__':\n",
    "    app.run(debug= False)\n"
   ]
  },
  {
   "cell_type": "markdown",
   "id": "31366114-f27b-45aa-adb6-40b0fb1de8ef",
   "metadata": {},
   "source": [
    "Changes are as expected! Nice. I think the inline CSS could be problematic for large dashboards. A separate .css file might be a better practice. On to the other tasks.\n",
    "\n",
    "Normally in matlab and matplotlib, you would have to deal with oddly behaving subplots to put multiple charts in a single chart. I know there are annoying problems aligning elements more dynamically (use flexbox or other software), but this felt a little more natural for a quick implementation."
   ]
  },
  {
   "cell_type": "markdown",
   "id": "5a06fb43-bef5-4ae5-82f3-5c1f6c25d9f6",
   "metadata": {},
   "source": [
    "<div style=\"background: lemonchiffon; margin:20px; padding: 20px;\">\n",
    "    <strong>TODO</strong>\n",
    "    <p>One issue with jupyter notebooks and dash is that the first app is still running, so when the second app is ran, the first app updates with 2 charts. Minor issue that can be resolved later. May not be an issue if each server is running its own app or some work around is possible. It also seems like this occurs when exporting jupyter notebook to html. Can make an issue.</p>\n",
    "</div>"
   ]
  }
 ],
 "metadata": {
  "kernelspec": {
   "display_name": "Python 3 (ipykernel)",
   "language": "python",
   "name": "python3"
  },
  "language_info": {
   "codemirror_mode": {
    "name": "ipython",
    "version": 3
   },
   "file_extension": ".py",
   "mimetype": "text/x-python",
   "name": "python",
   "nbconvert_exporter": "python",
   "pygments_lexer": "ipython3",
   "version": "3.9.0"
  }
 },
 "nbformat": 4,
 "nbformat_minor": 5
}
